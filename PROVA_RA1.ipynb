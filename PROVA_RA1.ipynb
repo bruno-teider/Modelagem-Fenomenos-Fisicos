{
  "nbformat": 4,
  "nbformat_minor": 0,
  "metadata": {
    "colab": {
      "provenance": [],
      "include_colab_link": true
    },
    "kernelspec": {
      "name": "python3",
      "display_name": "Python 3"
    },
    "language_info": {
      "name": "python"
    }
  },
  "cells": [
    {
      "cell_type": "markdown",
      "metadata": {
        "id": "view-in-github",
        "colab_type": "text"
      },
      "source": [
        "<a href=\"https://colab.research.google.com/github/bruno-teider/Modelagem-Fenomenos-Fisicos/blob/main/PROVA_RA1.ipynb\" target=\"_parent\"><img src=\"https://colab.research.google.com/assets/colab-badge.svg\" alt=\"Open In Colab\"/></a>"
      ]
    },
    {
      "cell_type": "markdown",
      "source": [
        "# Avaliação em Grupo RA1 - 2024-1\n",
        "\n",
        "**Antes de começar, leia estas instruções cuidadosamente.**\n",
        "\n",
        "Este trabalho pode ser feito em grupos de até 4 alunos. Mesmo que você faça o trabalho individualmente, precisa se registrar em um grupo (do eu sozinho) e entregar o trabalho.\n",
        "\n",
        "Não existirão prorrogações de prazo de entrega.\n",
        "\n",
        "Trabalhos idênticos entregues por pessoas, ou grupos, diferentes, serão anulados.\n",
        "\n",
        "Todos os trabalhos serão entregues em uma cópia deste caderno de atividades na forma de um link postado no AVA da instituição (Canvas). Todos os enunciados devem ser preservados e você deverá inserir uma célula de textos com o **nome de todos os integrantes do grupo, em ordem alfabética**, logo após esta célula de texto de instruções.\n",
        "\n",
        "Qualquer alteração do caderno contendo as suas respostas que seja registrada após a data de postagem provocará a anulação da avaliação.\n",
        "\n",
        "Esta avaliação é de consulta e pesquisa. Você pode pesquisar em qualquer fonte que desejar e consultar todas as pessoas que achar necessário. Exceto o professor.\n",
        "\n",
        "Você poderá usar, neste notebook, apenas a linguagem python limitada ao uso das seguintes bibliotecas: numpy, sympy, matplotlib, ipWidgets e IPython.\n",
        "\n",
        "Entrega será realizada com a postagem de um link para um ambiente de execução, no AVA da institução. Neste link o seu caderno deve permitir ser executado (permissão de leitor). Serão aceitos links diretos ao ambiente do Google Colaboratory, ou Links a um caderno do Google Colaboratory que tenha sido salvo pelo próprio Google Colaboratory no GitHub. Links para outro ambiente, ou que requeiram qualquer tipo de download, ou ainda, que requeiram aprovação para acesso, provocarão a nota zero na avaliação.\n",
        "\n",
        "Se você encontrar algo errado nesta avaliação simplesmente anote suas observações na própria questão. Suas observações serão consideradas durante a avaliação e, em caso de pertinência, poderão encejar a anulação do item, ou questão, a critério do professor.\n",
        "\n",
        "**Lembrem-se a interpretação faz parte da questão.**"
      ],
      "metadata": {
        "id": "826dicyj8GFi"
      }
    },
    {
      "cell_type": "markdown",
      "source": [
        "<br>\n",
        "\n",
        "## Grupo: Bruno Teider, Luiz Mathias Rivabem Filho, Nicolas Andreas Jackel, Rafaela Vecchi Pelentier\n",
        "\n",
        "\n",
        "<br>"
      ],
      "metadata": {
        "id": "W9kZhIoo8e7v"
      }
    },
    {
      "cell_type": "markdown",
      "source": [
        "# Ferramentas utilizadas para a execução do trabalho:\n",
        "Utilizada calculadora de fatores como ferramenta para auxiliar nos exercícios.\n",
        "\n",
        "Link: https://www.emathhelp.net/pt/calculators/algebra-2/factoring-calculator/\n",
        "\n",
        "Utlizado WolframAlpha para conferir resultados.\n",
        "\n",
        "Link: www.wolframalpha.com/\n",
        "\n",
        "Utilizado Geogebra para conferir gráficos.\n",
        "\n",
        "Link: https://www.geogebra.org/calculator\n",
        "\n",
        "Utilizado ChatGPT para tirar dúvidas.\n",
        "\n",
        "Link: https://chat.openai.com/\n",
        "\n",
        "Utilizado Gemini para tirar dúvidas.\n",
        "\n",
        "Link: https://gemini.google.com/\n",
        "\n",
        "Utilizado o livro Cálculo A: funções, limite, derivação e integração; de Flemming\n",
        "\n",
        "Link: https://pergamum-biblioteca.pucpr.br/acervo/5025124"
      ],
      "metadata": {
        "id": "fUeYon1B8-k9"
      }
    },
    {
      "cell_type": "markdown",
      "source": [
        "## Questão 1\n",
        "\n",
        "Considerando um fenômeno que possa ser explicado pela equação\n",
        "\n",
        "$$y = 3x^3-150 sin(x)^2+2$$\n",
        "\n",
        "Encontre o coeficiente angular da tangente a dois pontos que você ache que sejam relevantes para o entendimento deste fenômeno. Você deverá fazer a análise algébrica do processo de determinação do coeficiente angular e apresentar todas a passagens matemáticas, e justificativas que o levaram a escolha destes pontos e o que você aprendeu sobre este fenômeno. Além disso, toda a álgebra deve estar explícita em notação matemática (use latex) em um bloco de textos deste caderno.\n",
        "\n",
        "Valor da Questão: até 1 ponto pela apresentação algébrica dos coeficientes angulares e até 1 ponto pela justificativa e conclusão. Álgebra incompleta, errada, sem notação matemática zera a questão. Passagens algébricas não detalhadas encejarão redução de 0,5 ponto por cada."
      ],
      "metadata": {
        "id": "qUS7fCgL8lO_"
      }
    },
    {
      "cell_type": "markdown",
      "source": [
        "R: Ao plotar o gráfico da função, podemos observar uma mudança \"brusca\" nos pontos A(0, 2) e B(2.5,0), portanto, escolhi esses dois pontos para traçar uma reta que passa entre eles, com ela eu também calculei o coeficiente angular:\n",
        "\n",
        "$$m = \\frac{\\Delta y}{\\Delta x} = \\frac{y_2 - y_1}{x_2 - x_1} =  \\frac{0 - 2}{0 -2.5} = 0.8$$\n",
        "\n",
        "Dessa forma, descobrimos que a $$\\tan\\alpha = 0.8$$\n",
        "Segundo a calculadora, a tangente do ângulo que dá 0.8 é igual a 38.66°\n",
        "\n",
        "Além disso, conseguimos descobrir a função da reta que passa nos pontos A e B com a fórmula da equação da reta:\n",
        "\n",
        "$$ y - y_1 = m(x - x_1) $$\n",
        "\n",
        "Utilizando o ponto A, temos que:\n",
        "\n",
        "$$ y - 2 = 0.8(x - 0) $$\n",
        "$$ y = -0,8x + 2 $$\n",
        "Esta é a função da reta que passa nos pontos A e B\n",
        "\n",
        "Plotando no gráfico a função inicial e a reta que passa nos pontos A e B, temos:"
      ],
      "metadata": {
        "id": "DAeKdIcsvLCb"
      }
    },
    {
      "cell_type": "markdown",
      "source": [
        "## Questão 2\n",
        "\n",
        "Usando álgebra, e mostrando todos os passos e justificativas do seu raciocínio, encontre o limite das equações a seguir. Lembre-se que você deverá garantir que toda a álgebra esteja impressa em notação matemática (use latex). Você pode usar qualquer ferramenta disponível para ajudá-lo nas suas conclusões desde que o uso destas ferramentas esteja registrado neste caderno de avaliação\n",
        "\n",
        "1. $$\\lim_{{x \\to 2}} \\frac{{x^2 - 5x + 6}}{{x^2 - 12x + 20}}$$\n",
        "\n",
        "\n",
        "2. $$\\lim_{{x \\to \\frac{3}{2}}} \\frac{{8x^3 - 27}}{{4x^2 - 9}}$$\n",
        "\n",
        "\n",
        "3. $$\\lim_{{x \\to 0}} \\left(\\frac{1}{x} - \\frac{1}{{x^2}} \\right)$$  \n",
        "\n",
        "\n",
        "4. $$\\lim_{{x \\to 0}} \\frac{{\\sqrt{1 + x} - 1}}{{-x}}$$\n",
        "\n",
        "\n",
        "5.  $$\\lim_{{x \\to 4^+}} \\frac{{\\sqrt{x^2 - 16}}}{{2x - 8}}$$\n",
        "\n",
        "\n",
        "Valor da questão: até 1 ponto por equação. Álgebra incompleta, errada, ou sem notação matemática anula a pontuação referente a equação. O uso de ferramentas que não registrado neste caderno de avaliação, zera a questão.\n",
        "\n",
        "\n",
        "---\n",
        "\n",
        "# Exercício 1:\n",
        "\n",
        "$$ \\lim_{x \\to 2} \\frac{x^2 - 5x + 6}{x^2 - 12x + 20} $$\n",
        "\n",
        "<br>\n",
        "Fatorando temos:\n",
        "\n",
        "$$ \\lim_{x \\to 2}  \\frac{(x-3)(x-2)}{(x-10)(x-2)} $$\n",
        "\n",
        "$$ \\lim_{x \\to 2} \\frac{(x-3)}{(x-10)} $$\n",
        "\n",
        "$$ \\lim_{x \\to 2} = \\frac{2 - 3}{2 - 10} $$\n",
        "\n",
        "$$ \\lim_{x \\to 2} = \\frac{-1}{-8}$$\n",
        "\n",
        "<br>\n",
        "Resultado:\n",
        "$$ \\lim_{x \\to 2} = \\frac{1}{8}$$\n",
        "\n",
        "---\n",
        "\n",
        "# Exercício 2:\n",
        "\n",
        "$$\\lim_{{x \\to \\frac{3}{2}}} \\frac{{8x^3 - 27}}{{4x^2 - 9}}$$\n",
        "\n",
        "<br>\n",
        "Fatorando temos:\n",
        "$$\\lim_{{x \\to \\frac{3}{2}}} \\frac{{{(2x-3)(4x^2+6x+9)}}}{{(2x-3)(2x+3)}}$$\n",
        "\n",
        "$$\\lim_{{x \\to \\frac{3}{2}}} \\frac{{{4x^2+6x+9}}}{{2x+3}}$$\n",
        "\n",
        "$$\\lim_{{x \\to \\frac{3}{2}}} = \\frac{{{4(\\frac{3}{2})^2+6(\\frac{3}{2})+9}}}{{2(\\frac{3}{2})+3}}$$\n",
        "\n",
        "$$\\lim_{{x \\to \\frac{3}{2}}} = \\frac{{{4(\\frac{9}{4})+9+9}}}{{3+3}}$$\n",
        "\n",
        "<br>\n",
        "Resultado:\n",
        "$$\\lim_{{x \\to \\frac{3}{2}}} = \\frac{{{9}}}{{2}}$$\n",
        "\n",
        "---\n",
        "\n",
        "# Exercício 3:\n",
        "\n",
        "$$\\lim_{{x \\to 0}} \\left(\\frac{1}{x} - \\frac{1}{{x^2}} \\right)$$\n",
        "\n",
        "$$\\lim_{{x \\to 0}} \\left(\\frac{1}{0} - \\frac{1}{{0^2}} \\right) $$\n",
        "\n",
        "Isso resulta em uma forma indeterminada, logo tentamos o resultado com aproximação:\n",
        "\n",
        "$$\\lim_{{x \\to 0^+}} \\left(\\frac{1}{0.00001} - \\frac{1}{{0.00001^2}} \\right) = -∞ $$\n",
        "\n",
        "$$\\lim_{{x \\to 0^-}} \\left(\\frac{1}{-0.00001} - \\frac{1}{{-0.00001^2}} \\right) = -∞ $$\n",
        "\n",
        "\n",
        "Logo, o limite, seja pela direita ou pela esquerda, tende a $-∞$\n",
        "\n",
        "\n",
        "---\n",
        "\n",
        "# Exercício 4\n",
        "\n",
        "$$\\lim_{{x \\to 0}} \\frac{{\\sqrt{1 + x} - 1}}{{-x}}$$\n",
        "\n",
        "<br>\n",
        "Racionalizando:\n",
        "$$\\lim_{{x \\to 0}} \\frac{{\\sqrt{1 + x} - 1}}{{-x}} . \\frac{\\sqrt{1+x}-1}{\\sqrt{1+x}-1} $$\n",
        "\n",
        "$$ \\lim_{{x \\to 0}} \\frac{{(\\sqrt{1+x}-1)(\\sqrt{1+x}-1)}}{{-x(\\sqrt{1+x}+1)}} $$\n",
        "\n",
        "<br>\n",
        "Simplificando:\n",
        "$$ \\lim_{{x \\to 0}} \\frac{{(1+x)-1}}{{-x(\\sqrt{1+x}+1)}} $$\n",
        "\n",
        "$$ \\lim_{{x \\to 0}} \\frac{{x}}{{-x(\\sqrt{1+x}+1)}} $$\n",
        "\n",
        "$$ \\lim_{{x \\to 0}} \\frac{{1}}{{-(\\sqrt{1+x}+1)}} $$\n",
        "\n",
        "$$ \\lim_{{x \\to 0}} -\\frac{{1}}{{1+1}} $$\n",
        "\n",
        "<br>\n",
        "Resultado:\n",
        "$$ \\lim_{{x \\to 0}} -\\frac{{1}}{{2}} $$\n",
        "\n",
        "---\n",
        "\n",
        "# Exercício 5:\n",
        "\n",
        "$$\\lim_{{x \\to 4+}} \\frac{{\\sqrt{x^2 - 16}}}{{2x - 8}}$$\n",
        "\n",
        "<br>\n",
        "Racionalizando:\n",
        "$$\\lim_{{x \\to 4+}} \\frac{{\\sqrt{x^2 - 16}}}{{2x - 8}} . \\frac{{\\sqrt{x^2 - 16}}}{{\\sqrt{x^2 - 16}}} $$\n",
        "\n",
        "$$ \\lim_{{x \\to 4+}} \\frac{{x^2 - 16}}{{2x - 8}{\\sqrt{x^2 - 16}}} $$\n",
        "<br>\n",
        "obs: Raiz quadrada de uma expressão multiplicada por ela mesma, o resultado é a expressão de dentro da raíz.\n",
        "<br>\n",
        "<br>\n",
        "Colocando o 2 em evidência:\n",
        "<br>\n",
        "$$ \\lim_{{x \\to 4+}} \\frac{{x^2 - 16}}{{2(x - 4)}{\\sqrt{x^2 - 16}}} $$\n",
        "<br>\n",
        "\n",
        "Fatorando:\n",
        "$$ \\lim_{{x \\to 4+}} \\frac{{(x -4).(x + 4)}}{{2(x - 4)}{\\sqrt{x^2 - 16}}} $$\n",
        "\n",
        "$$ \\lim_{{x \\to 4+}} \\frac{{x + 4}}{{2(\\sqrt{x^2 - 16})}} $$\n",
        "\n",
        "$$\\lim_{x \\to 4^+} \\left( x + 4 \\right) \\cdot \\frac{1}{2 \\sqrt{x^2 - 16}}$$\n",
        "\n",
        "\n",
        "\n",
        "<br>\n",
        "Resultado:\n",
        "$$\\lim_{x \\to 4^+} \\left( 5.00001 + 4 \\right) \\cdot \\frac{1}{2 \\sqrt{5.00001^2 - 16}}$$\n",
        "\n",
        "O limite tende a $+∞$\n",
        "\n",
        "---"
      ],
      "metadata": {
        "id": "QGVOTGY18wXo"
      }
    },
    {
      "cell_type": "markdown",
      "source": [
        "## Questão 3\n",
        "\n",
        "Usando apenas recursos gráficos e as análises de aproximações laterais. Encontre os limites especificados nos itens $a$, $b$, $c$, $d$, $e$, e $f$ para a função definida por partes $f(t)$ descrita à seguir. Observe que todas as ferramentas (gráficos, tabelas, análises e códigos, que você usar para a sua análise devem estar registradas neste caderno.\n",
        "\n",
        "$$\n",
        "f(t) =\n",
        "\\begin{cases}\n",
        "t^2 & \\text{para } t < -3 \\\\\n",
        "t + 6 & \\text{para } -1 < t < 3 \\\\\n",
        "t^2 - t & \\text{para } t < 3 \\\\\n",
        "3t - 2 & \\text{para } t \\geq 3\n",
        "\\end{cases}\n",
        "$$\n",
        "\n",
        "\n",
        "\n",
        "(a) $$\\lim_{{t \\to -3}} f(t)$$\n",
        "\n",
        "(b) $$ \\lim_{{t \\to -1^+}} f(t)$$\n",
        "\n",
        "(c) $$ \\lim_{{t \\to 3^-}} f(t)$$\n",
        "\n",
        "(d) $$ \\lim_{{t \\to 0}} f(t)$$\n",
        "\n",
        "(e) $$ \\lim_{{t \\to \\infty}} f(t)$$\n",
        "\n",
        "(f) $$ \\lim_{{t \\to -\\infty}} f(t)$$\n",
        "\n",
        "\n",
        "Valor da Questão: cada item vale até 0,5 pontos. A falta do registro da análise zera o item. A inconsistência no processo de análise também zera o item. A inconsistência será visível quando a análise gráfica divergir das análise por aproximação lateral ou da conclusão apresentada.\n"
      ],
      "metadata": {
        "id": "tRaTI4g083un"
      }
    },
    {
      "cell_type": "markdown",
      "source": [
        "---\n",
        "**Obs**: Os pontos no gráfico não representam valores exatos, e sim a tendência. Tanto para tendência $+∞$ como na $-∞$, o resultado tende a $+∞$, por isso o gráfico cresce infinitamente para cima no eixo y"
      ],
      "metadata": {
        "id": "5xlmSNwTat2D"
      }
    },
    {
      "cell_type": "code",
      "source": [
        "from matplotlib import pyplot as plt\n",
        "import sympy as sp\n",
        "import numpy as np\n",
        "\n",
        "def calculo(t):\n",
        "  if(t < -3): return (t**2)\n",
        "  elif(t < 3 and t > -1): return (t + 6)\n",
        "  elif(t >= 3): return (3*t - 2)\n",
        "  else: return (t**2 - t)\n",
        "\n",
        "def plotarGrafico():\n",
        "  xscatter = [-3, -0.99999, 3.1, 0]\n",
        "  yscatter = [calculo(x) for x in xscatter]\n",
        "  colors = ['red','magenta','orange','green']\n",
        "  labels = ['$\\lim_{{t \\\\to -3}} f(t) = 12$', '$ \\lim_{{t \\\\to -1^+}} f(t) = 5$', '$ \\lim_{{t \\\\to 3^-}} f(t) = 6$', '$ \\lim_{{t \\\\to 0}} f(t) = 6$']\n",
        "\n",
        "  for i in range(len(xscatter)):\n",
        "    plt.scatter(xscatter[i], yscatter[i], color=colors[i], label=labels[i], s=50, alpha=1)\n",
        "\n",
        "  xp = np.linspace(-5, 5, 100)\n",
        "  yp = [calculo(x) for x in xp]\n",
        "\n",
        "  plt.plot(xp, yp, color=\"blue\", label='$f(t)$')\n",
        "  plt.xlabel('t', fontsize=12)\n",
        "  plt.ylabel('f(t)', fontsize=12)\n",
        "  plt.title('Gráfico da Função Definida por Partes', fontsize=14)\n",
        "  plt.legend(fontsize=11)\n",
        "  plt.grid()\n",
        "  plt.tight_layout()\n",
        "  plt.show()\n",
        "\n",
        "plotarGrafico()"
      ],
      "metadata": {
        "colab": {
          "base_uri": "https://localhost:8080/",
          "height": 487
        },
        "id": "cIlBgstmLjy0",
        "outputId": "09f14518-97be-4997-f229-c5d2fd0905ad"
      },
      "execution_count": null,
      "outputs": [
        {
          "output_type": "display_data",
          "data": {
            "text/plain": [
              "<Figure size 640x480 with 1 Axes>"
            ],
            "image/png": "[encoded data removed]"
          },
          "metadata": {}
        }
      ]
    },
    {
      "cell_type": "code",
      "source": [
        "import math\n",
        "from sympy import symbols, sqrt\n",
        "from IPython.display import display, Math\n",
        "\n",
        "def criar_pontos_aproximacao(valor_limite, distancia=[1, 0.5, 0.1, 0.01]):\n",
        "    pontos_esquerda = [valor_limite - d for d in distancia]\n",
        "    pontos_direita = [valor_limite + d for d in distancia]\n",
        "    return pontos_esquerda, pontos_direita\n",
        "\n",
        "def plotarTabela(f, ponto_interesse):\n",
        "  valores_esquerda, valores_direita = criar_pontos_aproximacao(ponto_interesse)\n",
        "\n",
        "  # Calculando os valores de f(t)\n",
        "  valores_esquerda = [f.subs(t, p).evalf() for p in valores_esquerda]\n",
        "  valores_direita = [f.subs(t, p).evalf() for p in valores_direita]\n",
        "\n",
        "  # Sáida em Latex\n",
        "  tabela_latex = \"\\\\begin{array}{|c|c|c|}\\n\"\n",
        "  tabela_latex += \"\\\\hline\\n\"\n",
        "  tabela_latex += \"{f(t)} & \\\\text{Aprox. à Esquerda} & \\\\text{Aprox. à Direita}  \\\\\\\\\\n\"\n",
        "  tabela_latex += \"\\\\hline\\n\"\n",
        "\n",
        "  for i in range(len(valores_esquerda)):\n",
        "      tabela_latex += f\"& {valores_esquerda[i]:.2f} & {valores_direita[i]:.2f} \\\\\\\\\\n\"\n",
        "  tabela_latex += \"\\\\hline\\n\"\n",
        "  tabela_latex += \"\\\\end{array}\"\n",
        "\n",
        "  display(Math(tabela_latex))\n",
        "\n",
        "t = symbols('t')\n",
        "\n",
        "# Chamando as funções para cada questão\n",
        "print(\"Tabelas de Aproximação de Valores: \\n\")\n",
        "display(Math(r'a) \\lim_{{t \\to -3}} f(t)'))\n",
        "plotarTabela(t**2 - t, -3)\n",
        "\n",
        "print('\\n')\n",
        "display(Math(r'b) \\lim_{{t \\to -1^+}} f(t)'))\n",
        "plotarTabela(t + 6, -1)\n",
        "\n",
        "print('\\n')\n",
        "display(Math(r'c) \\lim_{{t \\to 3^-}} f(t)'))\n",
        "plotarTabela(t**2 - t, 3)\n",
        "\n",
        "print('\\n')\n",
        "display(Math(r'd) \\lim_{{t \\to 0}} f(t)'))\n",
        "plotarTabela(t + 6, 0)"
      ],
      "metadata": {
        "colab": {
          "base_uri": "https://localhost:8080/",
          "height": 678
        },
        "id": "m52CUeNv-Z-o",
        "outputId": "a190b7bd-f5ba-4ef3-9468-8d6c301d03bd"
      },
      "execution_count": null,
      "outputs": [
        {
          "output_type": "stream",
          "name": "stdout",
          "text": [
            "Tabelas de Aproximação de Valores: \n",
            "\n"
          ]
        },
        {
          "output_type": "display_data",
          "data": {
            "text/plain": [
              "<IPython.core.display.Math object>"
            ],
            "text/latex": "$\\displaystyle a) \\lim_{{t \\to -3}} f(t)$"
          },
          "metadata": {}
        },
        {
          "output_type": "display_data",
          "data": {
            "text/plain": [
              "<IPython.core.display.Math object>"
            ],
            "text/latex": "$\\displaystyle \\begin{array}{|c|c|c|}\n\\hline\n{f(t)} & \\text{Aprox. à Esquerda} & \\text{Aprox. à Direita}  \\\\\n\\hline\n& 20.00 & 6.00 \\\\\n& 15.75 & 8.75 \\\\\n& 12.71 & 11.31 \\\\\n& 12.07 & 11.93 \\\\\n\\hline\n\\end{array}$"
          },
          "metadata": {}
        },
        {
          "output_type": "stream",
          "name": "stdout",
          "text": [
            "\n",
            "\n"
          ]
        },
        {
          "output_type": "display_data",
          "data": {
            "text/plain": [
              "<IPython.core.display.Math object>"
            ],
            "text/latex": "$\\displaystyle b) \\lim_{{t \\to -1^+}} f(t)$"
          },
          "metadata": {}
        },
        {
          "output_type": "display_data",
          "data": {
            "text/plain": [
              "<IPython.core.display.Math object>"
            ],
            "text/latex": "$\\displaystyle \\begin{array}{|c|c|c|}\n\\hline\n{f(t)} & \\text{Aprox. à Esquerda} & \\text{Aprox. à Direita}  \\\\\n\\hline\n& 4.00 & 6.00 \\\\\n& 4.50 & 5.50 \\\\\n& 4.90 & 5.10 \\\\\n& 4.99 & 5.01 \\\\\n\\hline\n\\end{array}$"
          },
          "metadata": {}
        },
        {
          "output_type": "stream",
          "name": "stdout",
          "text": [
            "\n",
            "\n"
          ]
        },
        {
          "output_type": "display_data",
          "data": {
            "text/plain": [
              "<IPython.core.display.Math object>"
            ],
            "text/latex": "$\\displaystyle c) \\lim_{{t \\to 3^-}} f(t)$"
          },
          "metadata": {}
        },
        {
          "output_type": "display_data",
          "data": {
            "text/plain": [
              "<IPython.core.display.Math object>"
            ],
            "text/latex": "$\\displaystyle \\begin{array}{|c|c|c|}\n\\hline\n{f(t)} & \\text{Aprox. à Esquerda} & \\text{Aprox. à Direita}  \\\\\n\\hline\n& 2.00 & 12.00 \\\\\n& 3.75 & 8.75 \\\\\n& 5.51 & 6.51 \\\\\n& 5.95 & 6.05 \\\\\n\\hline\n\\end{array}$"
          },
          "metadata": {}
        },
        {
          "output_type": "stream",
          "name": "stdout",
          "text": [
            "\n",
            "\n"
          ]
        },
        {
          "output_type": "display_data",
          "data": {
            "text/plain": [
              "<IPython.core.display.Math object>"
            ],
            "text/latex": "$\\displaystyle d) \\lim_{{t \\to 0}} f(t)$"
          },
          "metadata": {}
        },
        {
          "output_type": "display_data",
          "data": {
            "text/plain": [
              "<IPython.core.display.Math object>"
            ],
            "text/latex": "$\\displaystyle \\begin{array}{|c|c|c|}\n\\hline\n{f(t)} & \\text{Aprox. à Esquerda} & \\text{Aprox. à Direita}  \\\\\n\\hline\n& 5.00 & 7.00 \\\\\n& 5.50 & 6.50 \\\\\n& 5.90 & 6.10 \\\\\n& 5.99 & 6.01 \\\\\n\\hline\n\\end{array}$"
          },
          "metadata": {}
        }
      ]
    }
  ]
}